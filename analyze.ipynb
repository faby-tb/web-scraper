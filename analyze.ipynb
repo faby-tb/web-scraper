{
 "cells": [
  {
   "cell_type": "code",
   "metadata": {},
   "source": [
    "import pandas as pd\n",
    "import matplotlib.pyplot as plt\n",
    "from wordcloud import WordCloud\n",
    "\n",
    "df = pd.read_csv('data/articles.csv')\n",
    "\n",
    "# Top 10 domains\n",
    "top_domains = df['domain'].value_counts().head(10)\n",
    "top_domains.plot(kind='barh', color='skyblue')\n",
    "plt.title('Top 10 Domains')\n",
    "plt.show()\n",
    "\n",
    "# Word Cloud\n",
    "text = ' '.join(df['title'])\n",
    "wordcloud = WordCloud(width=800, height=400, background_color='white').generate(text)\n",
    "plt.figure(figsize=(10,5))\n",
    "plt.imshow(wordcloud, interpolation='bilinear')\n",
    "plt.axis('off')\n",
    "plt.show()"
   ]
  }
 ],
 "metadata": {},
 "nbformat": 4,
 "nbformat_minor": 5
}